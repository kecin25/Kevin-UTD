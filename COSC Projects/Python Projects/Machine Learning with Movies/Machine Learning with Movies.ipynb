{
 "cells": [
  {
   "cell_type": "code",
   "execution_count": 147,
   "id": "7677fb67",
   "metadata": {},
   "outputs": [
    {
     "data": {
      "text/plain": [
       "array([7.93878891, 5.64533157, 5.8136112 , 8.08042735, 5.90884373,\n",
       "       7.64256488])"
      ]
     },
     "execution_count": 147,
     "metadata": {},
     "output_type": "execute_result"
    }
   ],
   "source": [
    "import pandas as pd\n",
    "from sklearn import linear_model\n",
    "from sklearn.model_selection import train_test_split\n",
    "import sklearn.metrics\n",
    "\n",
    "movie_data = pd.read_csv(\"AnnualTicketSales.csv\")\n",
    "y = movie_data[\"AVERAGE TICKET PRICE\"]\n",
    "X = movie_data.drop(columns=[\"AVERAGE TICKET PRICE\"])\n",
    "X\n",
    "X_train, X_test, y_train, y_test = train_test_split(X, y, test_size=0.2)\n",
    "\n",
    "model = linear_model.LinearRegression(normalize=True)\n",
    "model.fit(X_train, y_train)\n",
    "predictions = model.predict(X_test)\n",
    "predictions\n",
    "\n",
    "\n",
    "# score = accuracy_score(y_test, predictions)\n",
    "# score"
   ]
  },
  {
   "cell_type": "code",
   "execution_count": 148,
   "id": "eae385c9",
   "metadata": {},
   "outputs": [
    {
     "data": {
      "text/plain": [
       "9     7.96\n",
       "19    5.81\n",
       "25    4.42\n",
       "12    7.50\n",
       "18    6.03\n",
       "11    7.89\n",
       "Name: AVERAGE TICKET PRICE, dtype: float64"
      ]
     },
     "execution_count": 148,
     "metadata": {},
     "output_type": "execute_result"
    }
   ],
   "source": [
    "y_test"
   ]
  }
 ],
 "metadata": {
  "kernelspec": {
   "display_name": "Python 3 (ipykernel)",
   "language": "python",
   "name": "python3"
  },
  "language_info": {
   "codemirror_mode": {
    "name": "ipython",
    "version": 3
   },
   "file_extension": ".py",
   "mimetype": "text/x-python",
   "name": "python",
   "nbconvert_exporter": "python",
   "pygments_lexer": "ipython3",
   "version": "3.9.7"
  }
 },
 "nbformat": 4,
 "nbformat_minor": 5
}
